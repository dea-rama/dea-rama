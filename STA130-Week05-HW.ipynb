{
 "cells": [
  {
   "cell_type": "markdown",
   "id": "46622edf",
   "metadata": {},
   "source": [
    "# Pre-Lecture HW"
   ]
  },
  {
   "cell_type": "markdown",
   "id": "8cfba05b",
   "metadata": {},
   "source": [
    "**Question #2.**\n",
    "\n",
    "The statement: \"It is important to note that outcomes of tests refer to the population parameter rather than the sample statistic! As such, the result that we get is for the population.\" means that when we perform testing on statistical data, our goal is to draw conclusions about a much larger group known as the population rather than the smaller group we are studying, which is the sample. We use individual data points in the sample (xi) to calculate the sample mean, denoted by x̄. The sample mean (x̄) is the average of all the individual data points (xi) in the sample. Once the sample mean is calculated, it is used to make inferences and draw conclusions about the population mean, denoted as μ. The population mean is a representation of the true average for the entire population. Since we don't have enough data to calculate the population mean, this is the reason why we use the sample data to estimate it. When we conduct a hypothesis test, we start with a claim known as the null hypothesis about the population mean (μ), where the hypothesized value of the mean is represented by the symbol μ₀. The null hypothesis is a statement about the population parameter being tested, and the result of statistical data will determine if there is enough evidence to reject the hypothesis or not. An example of the null hypothesis is the assumption that the average height of people in a country is 175 cm. Therefore, μ₀=175 cm, and the sample mean will determine if the evidence suggests that the null hypothesis is true or not."
   ]
  },
  {
   "cell_type": "markdown",
   "id": "9cbe16c5",
   "metadata": {},
   "source": [
    "**Question #4**\n",
    "\n",
    "A smaller p-value makes the null hypothesis look more \"ridiculous\" because the p-value measures the probability of obtaining results as extreme as or more extreme than what is observed in the sample, assuming the null hypothesis holds true. When the p-value is very small (<0.05 threshold), this implies there is only less than a 5% chance of observing your data, which is highly unlikely to occur if the null hypothesis is true. Because the probability of this data being observed is very low, the null hypothesis is not a good fit for the type of data being studied, and that's why it might look \"ridiculous.\" Therefore, as the p-value decreases, it only indicates stronger evidence against the null hypothesis because it suggests that the data is unlikely to occur."
   ]
  },
  {
   "cell_type": "markdown",
   "id": "dac39ea0",
   "metadata": {},
   "source": [
    "Chat Gpt Summary\n",
    "Here's a summary of our interaction:\n",
    "\n",
    "1. Population vs. Sample: We discussed the importance of distinguishing between population parameters and sample statistics in statistical testing, emphasizing how conclusions drawn from sample data aim to infer characteristics of the broader population.\n",
    "\n",
    "2.Null Hypothesis (H₀): You clarified that the null hypothesis is a statement about a population parameter being tested, using the example of the average height of people in a country (μ₀ = 175 cm). We highlighted how sample means (x̄) are used to make inferences about the population mean (μ).\n",
    "\n",
    "3. P-value Interpretation: We explored why a smaller p-value makes the null hypothesis seem \"ridiculous.\" You explained that a low p-value indicates a very low probability of observing the data if the null hypothesis is true, suggesting that the null hypothesis does not fit the observed data well.\n",
    "\n",
    "4. Revision and Improvement: You requested improvements to your explanations about the null hypothesis and p-values, leading to clearer and more detailed descriptions while maintaining the original intent.\n",
    "\n",
    "If you need any more details or specific points added to the summary, let me know!\n",
    "\n",
    "https://chatgpt.com/share/670e9500-a6f8-8006-8d41-6c5f278877d8"
   ]
  },
  {
   "cell_type": "markdown",
   "id": "0fe047bf",
   "metadata": {},
   "source": [
    "## Post-Lecture HW"
   ]
  },
  {
   "cell_type": "markdown",
   "id": "3bf068dd",
   "metadata": {},
   "source": [
    "**Question #8**"
   ]
  },
  {
   "cell_type": "markdown",
   "id": "09fb0b24",
   "metadata": {},
   "source": [
    "**Problem Introduction**\n",
    "\n",
    "1. STA130 Experiment's Objective\n",
    "\n",
    "The Fisher's Tea experiment analyzes whether STA130 students can correctly identify the order of milk and tea when poured into a coup. The experiment involves a sample size of 80 STA130 students, with 49 students being able to correctly find the order of milk and tea. The objective is to conduct a statistical analysis to determine if the results of the experience are due to random guessing or if the statistical analysis provides evidence that students are capable of finding the difference when milk is poured first or second in the tea.\n",
    "\n",
    "2. Relationship between the STA130 Experiment and the Originial Fisher-Bristol Experiment. \n",
    "\n",
    "The STA130 experiment is inspired by Dr. Fisher's tea-tasting experiment with Dr. Muriel Bristol. This experiment involved a sample size of only 8 cups of tea, with Dr. Muriel Bristol identifying the correct pouring order of milk and tea based on taste. Fisher designed a hypothesis test to examine whether Dr. Muriel Bristol's correct identifications were as a result of random guessing or if her answers could be supported by statistical evidence. The main differences between the original experiment and the experiment with the STA130 students are that Fisher's experiment involved a sample size of 8 cups of tea, and this experiment has a sample size of 80 STA130 students. All STA130 students who are capable of identifying the correct order of pouring represent the entire population. The parameter of interest for this experiment is the proportion of students in the entire STA130 population,p, who are able to identify the correct order of pouring. Based on the conducted experiment, the observed test statistics are the sample proportion of students who guessed correctly, given by p^=49/80=0.6125. In Fisher's experiment, the parameter of interest was Dr. Bristol's ability to distinguish the pouring order by taste. The experiment tested whether her correct identifications could be attributed to skill rather than random guessing. In this study, the larger sample size being used implies that the parameter is more abstract and focuses on the ability of students to distinguish between the two pouring methods. \n",
    "\n",
    "\n",
    "3. Statements of the Null and Alternative Hypotheses\n",
    "Null Hypothesis (H0): If the STA130 students are randomly guessing the pouring order, the probability of identifying the correct order is p0=0.5. This means that there is only a 50% chance of guessing the correct order.\n",
    "\n",
    "Alternative Hypothesis (H1): If the STA130 students are capable of correctly identifying the pouring order due to their skills, then the true probability is going to be: p>0.5\n",
    "\n"
   ]
  },
  {
   "cell_type": "markdown",
   "id": "77f785cf",
   "metadata": {},
   "source": [
    "**Quantitative Analysis**\n",
    "\n",
    "1. Observed statistic: 49/80 students identified the correct order.\n",
    "\n",
    "2. The population parameter (p)  is the proportion of students who can identify the correct order of pouring.\n",
    "\n",
    "\n"
   ]
  },
  {
   "cell_type": "code",
   "execution_count": 1,
   "id": "5c07e496",
   "metadata": {},
   "outputs": [
    {
     "name": "stdout",
     "output_type": "stream",
     "text": [
      "P-value: 0.0283\n",
      "95% Confidence Interval: [0.5000, 0.7125]\n"
     ]
    },
    {
     "name": "stderr",
     "output_type": "stream",
     "text": [
      "/tmp/ipykernel_107/2796127055.py:10: DeprecationWarning: 'binom_test' is deprecated in favour of 'binomtest' from version 1.7.0 and will be removed in Scipy 1.12.0.\n",
      "  p_value = stats.binom_test(k, n, p=p0, alternative='greater')\n"
     ]
    }
   ],
   "source": [
    "#3. Methodology Code \n",
    "import scipy.stats as stats\n",
    "\n",
    "# Parameters\n",
    "n = 80\n",
    "k = 49  # number of correct guesses\n",
    "p0 = 0.5  # hypothesized probability under H0\n",
    "\n",
    "# Perform binomial test\n",
    "p_value = stats.binom_test(k, n, p=p0, alternative='greater')\n",
    "print(f\"P-value: {p_value:.4f}\")\n",
    "\n",
    "\n",
    "# Calculate 95% confidence interval for proportion\n",
    "phat = k / n\n",
    "ci_lower, ci_upper = stats.binom.interval(0.95, n, phat)\n",
    "ci_lower /= n\n",
    "ci_upper /= n\n",
    "print(f\"95% Confidence Interval: [{ci_lower:.4f}, {ci_upper:.4f}]\")\n"
   ]
  },
  {
   "cell_type": "markdown",
   "id": "ab41ca50",
   "metadata": {},
   "source": [
    "3. Methodology Explanations\n",
    "\n",
    "a) The purpose of the binomial test is to determine if the 49 out of 80 correct guesses occurred by chance, meaning that the probability of guessing is 0.5 as assumed by the null hypothesis H0. The binomial test compares the observed data with the hypothesis and helps determine if it's true or false.\n",
    "b) The test statistic is k, which represents the observed number of correct guesses, k = 49. The aim is to determine if this result is higher than what would be expected by random guessing.\n",
    "c) The p-value of 0.0283 represents the probability of observing 49+ correct guesses, assuming the null hypothesis that the students are guessing (p = 0.5). However, since the calculated p-value of 0.0283 is significantly less than the null hypothesis p-value of 0.5, then the null hypothesis is rejected and the students were not just randomly guessing. \n",
    "d) The 95% confidence interval [0.5000, 0.7125] shows that the true proportion of correct guesses is likely greater than 0.5. This means that the students are not randomly guessing and have some \"skills\" in tea tasting, as the true proportion of correct guesses is between 50% and 71.25%, which further rejects the null hypothesis."
   ]
  },
  {
   "cell_type": "markdown",
   "id": "8d3b4cdb",
   "metadata": {},
   "source": [
    "**Findings and Discussion**\n",
    "\n"
   ]
  },
  {
   "cell_type": "markdown",
   "id": "9b2de39a",
   "metadata": {},
   "source": [
    "Based on the resulting p-value of 0.0283, the probability of obtaining 49+ correct guesses of pouring order by random chance is less than 5%. This indicates that students are not just randomly guessing but have some tea-tasting \"skills.\" The confidence interval further supports these findings as the true proportion of correct guesses is greater than 0.5 or 50%, making the alternative hypothesis true. "
   ]
  },
  {
   "cell_type": "markdown",
   "id": "7f505fd6",
   "metadata": {},
   "source": [
    "Chat GPT Summary\n",
    "\n",
    "Here's a summary of our session:\n",
    "\n",
    "1.P-Value Explanation**: We discussed and refined your explanation of the p-value, focusing on how a smaller p-value suggests stronger evidence against the null hypothesis, making it appear less likely or \"ridiculous.\"\n",
    "\n",
    "2.Experiment Write-up**: You provided a draft of the \"Problem Introduction\" for your STA130 experiment, inspired by Fisher’s Tea experiment. We worked on improving clarity, correcting minor typographical errors, and ensuring the statistical terminology and reasoning were accurate.\n",
    "\n",
    "3.Methodology and Results**: We reviewed the methodology of your binomial test, interpreting the test statistic, p-value, and confidence interval. The write-up now clearly explains how the binomial test compares observed data with the hypothesized probability, and how the results lead to rejecting the null hypothesis.\n",
    "\n",
    "4.Findings: We refined your \"Findings and Discussion\" section to accurately state that the evidence suggests the students have some skill in identifying the tea pouring order, though it’s important to note that we cannot prove the alternative hypothesis outright.\n",
    "\n",
    "This session was focused on improving the structure, clarity, and accuracy of your statistical report. Let me know if you'd like to dive deeper into any part!\n",
    "\n",
    "https://chatgpt.com/share/670f0629-0a68-8006-9add-71eddab5e3f7"
   ]
  },
  {
   "cell_type": "code",
   "execution_count": null,
   "id": "f694eda3",
   "metadata": {},
   "outputs": [],
   "source": []
  }
 ],
 "metadata": {
  "kernelspec": {
   "display_name": "Python 3 (ipykernel)",
   "language": "python",
   "name": "python3"
  },
  "language_info": {
   "codemirror_mode": {
    "name": "ipython",
    "version": 3
   },
   "file_extension": ".py",
   "mimetype": "text/x-python",
   "name": "python",
   "nbconvert_exporter": "python",
   "pygments_lexer": "ipython3",
   "version": "3.11.6"
  }
 },
 "nbformat": 4,
 "nbformat_minor": 5
}
